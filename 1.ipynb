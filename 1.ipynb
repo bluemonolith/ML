{
  "nbformat": 4,
  "nbformat_minor": 0,
  "metadata": {
    "colab": {
      "name": "FirstALProject.ipynb",
      "provenance": []
    },
    "kernelspec": {
      "name": "python3",
      "display_name": "Python 3"
    }
  },
  "cells": [
    {
      "cell_type": "code",
      "metadata": {
        "id": "kC7Y5YNw0u3M",
        "colab_type": "code",
        "colab": {
          "base_uri": "https://localhost:8080/",
          "height": 63
        },
        "outputId": "b45f9e24-5792-416b-d34c-13490ecd6fa6"
      },
      "source": [
        "import tensorflow as tf\n",
        "tf.logging.set_verbosity(tf.logging.ERROR)\n",
        "import numpy as np\n",
        "import matplotlib.pyplot as plt"
      ],
      "execution_count": 1,
      "outputs": [
        {
          "output_type": "display_data",
          "data": {
            "text/html": [
              "<p style=\"color: red;\">\n",
              "The default version of TensorFlow in Colab will soon switch to TensorFlow 2.x.<br>\n",
              "We recommend you <a href=\"https://www.tensorflow.org/guide/migrate\" target=\"_blank\">upgrade</a> now \n",
              "or ensure your notebook will continue to use TensorFlow 1.x via the <code>%tensorflow_version 1.x</code> magic:\n",
              "<a href=\"https://colab.research.google.com/notebooks/tensorflow_version.ipynb\" target=\"_blank\">more info</a>.</p>\n"
            ],
            "text/plain": [
              "<IPython.core.display.HTML object>"
            ]
          },
          "metadata": {
            "tags": []
          }
        }
      ]
    },
    {
      "cell_type": "code",
      "metadata": {
        "id": "Zm0jALOT0z4O",
        "colab_type": "code",
        "colab": {
          "base_uri": "https://localhost:8080/",
          "height": 153
        },
        "outputId": "f030947a-9309-47de-ab09-a59902813cb5"
      },
      "source": [
        "# IMPORT DATAPOINTS\n",
        "mar_budget = np.array([60,80,100,30,50,20,90,10], dtype=float)\n",
        "subs_gained = np.array([160,200,240,100,140,80,220,60],dtype=float)\n",
        "\n",
        "for i,c in enumerate(mar_budget):\n",
        "  print(\"{}Market budget = {} new subscribersgained\".format(c,subs_gained[i]))"
      ],
      "execution_count": 2,
      "outputs": [
        {
          "output_type": "stream",
          "text": [
            "60.0Market budget = 160.0 new subscribersgained\n",
            "80.0Market budget = 200.0 new subscribersgained\n",
            "100.0Market budget = 240.0 new subscribersgained\n",
            "30.0Market budget = 100.0 new subscribersgained\n",
            "50.0Market budget = 140.0 new subscribersgained\n",
            "20.0Market budget = 80.0 new subscribersgained\n",
            "90.0Market budget = 220.0 new subscribersgained\n",
            "10.0Market budget = 60.0 new subscribersgained\n"
          ],
          "name": "stdout"
        }
      ]
    },
    {
      "cell_type": "code",
      "metadata": {
        "id": "EnTLtNKM1gIK",
        "colab_type": "code",
        "colab": {
          "base_uri": "https://localhost:8080/",
          "height": 279
        },
        "outputId": "6d56ecc0-8253-4385-ca0c-a17ad9cc5876"
      },
      "source": [
        "plt.scatter(mar_budget, subs_gained)\n",
        "plt.xlim(0.120)\n",
        "plt.ylim(0.260)\n",
        "plt.xlabel('Marketing Budget(in thousand of Dollars)')\n",
        "plt.ylabel('Subscribers Gained (in thousand)')\n",
        "plt.show()"
      ],
      "execution_count": 3,
      "outputs": [
        {
          "output_type": "display_data",
          "data": {
            "image/png": "[encoded data removed]",
            "text/plain": [
              "<Figure size 432x288 with 1 Axes>"
            ]
          },
          "metadata": {
            "tags": []
          }
        }
      ]
    },
    {
      "cell_type": "code",
      "metadata": {
        "id": "C0n2TXEL154n",
        "colab_type": "code",
        "colab": {}
      },
      "source": [
        "# SEPARATE DATA INTO TRAINING AND TESTING DATA\n",
        "from sklearn.model_selection import train_test_split\n",
        "X_train, X_test, y_train, y_test = train_test_split(mar_budget, subs_gained, random_state=42, train_size=0.8, test_size=0.2)"
      ],
      "execution_count": 0,
      "outputs": []
    },
    {
      "cell_type": "code",
      "metadata": {
        "id": "DDavohUzBMLw",
        "colab_type": "code",
        "colab": {}
      },
      "source": [
        "# BUILDING A LAYER\n",
        "# input_shape=[1]: means that the input to this layer is a single value\n",
        "# units=1: specifies the number of neourons in the layer. The number of neurons defines how many internal variables the layer has to try to learn how to solve the problem.\n",
        "\n",
        "layer_0 = tf.keras.layers.Dense(units=1, input_shape=[1])"
      ],
      "execution_count": 0,
      "outputs": []
    },
    {
      "cell_type": "code",
      "metadata": {
        "id": "MgQP_rd4BzQd",
        "colab_type": "code",
        "colab": {}
      },
      "source": [
        "# ASSEMBLE LAYERS IN TO THE MODEL\n",
        "\n",
        "model =tf.keras.Sequential([layer_0])"
      ],
      "execution_count": 0,
      "outputs": []
    },
    {
      "cell_type": "code",
      "metadata": {
        "id": "MvPihGSuCCEH",
        "colab_type": "code",
        "colab": {}
      },
      "source": [
        "# Or you can also write... (to combine above 2)\n",
        "# model = tf.keras.Sequential([tf.keras.layers.Dense(units=1, input=shape[1])])"
      ],
      "execution_count": 0,
      "outputs": []
    },
    {
      "cell_type": "code",
      "metadata": {
        "id": "Nq0XxgMBCSEQ",
        "colab_type": "code",
        "colab": {}
      },
      "source": [
        "# COMPILE THE MODEL WITH LOSS AND OPTIMISER FUNCTIONS\n",
        "# Adam is the name of the optimizer, and 0.1 is the learning rate, which is 0.001 as the usual default\n",
        "model.compile(loss='mean_squared_error', optimizer=tf.keras.optimizers.Adam(0.1))"
      ],
      "execution_count": 0,
      "outputs": []
    },
    {
      "cell_type": "code",
      "metadata": {
        "id": "nfyFuRCfCcR1",
        "colab_type": "code",
        "colab": {
          "base_uri": "https://localhost:8080/",
          "height": 34
        },
        "outputId": "0f6d465b-3c1f-4ccf-b320-465109f5b1f1"
      },
      "source": [
        "# TRAIN THE MODEL BY CALLING THE FIT METHOD\n",
        "# epochs defines how many times the cycle should be run\n",
        "# verbose controls how much output the method produces\n",
        "trained_model = model.fit(X_train, y_train, epochs=1000, verbose=False)\n",
        "print(\"Finished training the model\")"
      ],
      "execution_count": 14,
      "outputs": [
        {
          "output_type": "stream",
          "text": [
            "Finished training the model\n"
          ],
          "name": "stdout"
        }
      ]
    },
    {
      "cell_type": "code",
      "metadata": {
        "id": "NCVRyMbMDSGY",
        "colab_type": "code",
        "colab": {
          "base_uri": "https://localhost:8080/",
          "height": 296
        },
        "outputId": "63b9b604-ea87-418d-8f29-82fa8e818455"
      },
      "source": [
        "#Visualise the training statistics\n",
        "import matplotlib.pyplot as plt\n",
        "plt.xlabel('Epoch Number')\n",
        "plt.ylabel('Loss Magnitude')\n",
        "plt.plot(trained_model.history['loss'])"
      ],
      "execution_count": 16,
      "outputs": [
        {
          "output_type": "execute_result",
          "data": {
            "text/plain": [
              "[<matplotlib.lines.Line2D at 0x7f73b7394a20>]"
            ]
          },
          "metadata": {
            "tags": []
          },
          "execution_count": 16
        },
        {
          "output_type": "display_data",
          "data": {
            "image/png": "[encoded data removed]",
            "text/plain": [
              "<Figure size 432x288 with 1 Axes>"
            ]
          },
          "metadata": {
            "tags": []
          }
        }
      ]
    },
    {
      "cell_type": "code",
      "metadata": {
        "id": "aZd-zgNwD6u6",
        "colab_type": "code",
        "colab": {
          "base_uri": "https://localhost:8080/",
          "height": 51
        },
        "outputId": "6f3b1f97-62db-41dc-bb45-1db1c2e30439"
      },
      "source": [
        "# USE THE MODEL TO PREDICT THE VALUES\n",
        "print(model.predict([80,0]))"
      ],
      "execution_count": 17,
      "outputs": [
        {
          "output_type": "stream",
          "text": [
            "[[201.16849 ]\n",
            " [ 25.945724]]\n"
          ],
          "name": "stdout"
        }
      ]
    },
    {
      "cell_type": "code",
      "metadata": {
        "id": "J3kX9UChED8w",
        "colab_type": "code",
        "colab": {
          "base_uri": "https://localhost:8080/",
          "height": 51
        },
        "outputId": "896cac91-614a-41e3-a14e-3df3ffe9beb1"
      },
      "source": [
        "# Predict labels for all test data points and compare them with the actual data points\n",
        "y_pred = model.predict(X_test)\n",
        "print('Actual | ValuestPredicted Values')\n",
        "print(y_test,'|', y_pred.reshape(1,-1))"
      ],
      "execution_count": 26,
      "outputs": [
        {
          "output_type": "stream",
          "text": [
            "Actual | ValuestPredicted Values\n",
            "[200.  80.] | [[201.16849  69.75142]]\n"
          ],
          "name": "stdout"
        }
      ]
    },
    {
      "cell_type": "code",
      "metadata": {
        "id": "v_NLGAoGEfBD",
        "colab_type": "code",
        "colab": {
          "base_uri": "https://localhost:8080/",
          "height": 34
        },
        "outputId": "35cc6639-506b-4a29-998a-9d1247808a6d"
      },
      "source": [
        "# Verify the model accuracy using performance metric\n",
        "# R^2 of 1 indicates the regression prefictions perfectly fit the data\n",
        "\n",
        "from sklearn.metrics import r2_score\n",
        "r2_score(y_test,y_pred)"
      ],
      "execution_count": 27,
      "outputs": [
        {
          "output_type": "execute_result",
          "data": {
            "text/plain": [
              "0.9852223924605318"
            ]
          },
          "metadata": {
            "tags": []
          },
          "execution_count": 27
        }
      ]
    },
    {
      "cell_type": "code",
      "metadata": {
        "id": "fAcKYPzxIBWH",
        "colab_type": "code",
        "colab": {
          "base_uri": "https://localhost:8080/",
          "height": 51
        },
        "outputId": "93aad9e8-a8d4-4f87-ad62-6aa58d87820f"
      },
      "source": [
        "# EXPERIMENT - 3 LAYERS\n",
        "\n",
        "l_0 = tf.keras.layers.Dense(units=4, input_shape=[1])\n",
        "l_1 = tf.keras.layers.Dense(units=5)\n",
        "l_2 = tf.keras.layers.Dense(units=1)\n",
        "\n",
        "model = tf.keras.Sequential([l_0,l_1,l_2])\n",
        "model.compile(loss='mean_squared_error', optimizer=tf.keras.optimizers.Adam(0.1))\n",
        "model.fit(X_train,y_train,epochs=2000,verbose=False)\n",
        "print('\\n Finished training Model')"
      ],
      "execution_count": 35,
      "outputs": [
        {
          "output_type": "stream",
          "text": [
            "\n",
            " Finished training Model\n"
          ],
          "name": "stdout"
        }
      ]
    },
    {
      "cell_type": "code",
      "metadata": {
        "id": "YWmIRmDjJXmS",
        "colab_type": "code",
        "colab": {
          "base_uri": "https://localhost:8080/",
          "height": 51
        },
        "outputId": "704f806b-41c0-4219-9b76-37ad64492ad8"
      },
      "source": [
        "print(model.predict([80]))\n",
        "y_pred = model.predict(X_test)\n",
        "print(r2_score(y_test,y_pred))"
      ],
      "execution_count": 40,
      "outputs": [
        {
          "output_type": "stream",
          "text": [
            "[[199.99998]]\n",
            "1.0\n"
          ],
          "name": "stdout"
        }
      ]
    },
    {
      "cell_type": "code",
      "metadata": {
        "id": "aLRiJXqILPq2",
        "colab_type": "code",
        "colab": {}
      },
      "source": [
        ""
      ],
      "execution_count": 0,
      "outputs": []
    }
  ]
}
